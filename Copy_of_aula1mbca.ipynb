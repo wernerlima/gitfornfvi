{
  "nbformat": 4,
  "nbformat_minor": 0,
  "metadata": {
    "colab": {
      "name": "Copy of aula1mbca.ipynb",
      "provenance": [],
      "include_colab_link": true
    },
    "kernelspec": {
      "name": "python3",
      "display_name": "Python 3"
    }
  },
  "cells": [
    {
      "cell_type": "markdown",
      "metadata": {
        "id": "view-in-github",
        "colab_type": "text"
      },
      "source": [
        "<a href=\"https://colab.research.google.com/github/wernerlima/gitfornfvi/blob/master/Copy_of_aula1mbca.ipynb\" target=\"_parent\"><img src=\"https://colab.research.google.com/assets/colab-badge.svg\" alt=\"Open In Colab\"/></a>"
      ]
    },
    {
      "cell_type": "markdown",
      "metadata": {
        "id": "rZe72E-_JRsO",
        "colab_type": "text"
      },
      "source": [
        "Aula 1 - MBCA - Conceitos básicos de estastítica"
      ]
    },
    {
      "cell_type": "markdown",
      "metadata": {
        "id": "BadD6dcqud3G",
        "colab_type": "text"
      },
      "source": [
        "Aqui vêm os imports.\n",
        "As bibliotecas do kit básico do cientista de dados são: numpy, scipy, pandas e matplotlib."
      ]
    },
    {
      "cell_type": "code",
      "metadata": {
        "id": "ASNAgZpAJQ4Z",
        "colab_type": "code",
        "colab": {}
      },
      "source": [
        "import pandas as pd\n",
        "import numpy as np"
      ],
      "execution_count": 0,
      "outputs": []
    },
    {
      "cell_type": "code",
      "metadata": {
        "id": "L9OlOmwSuzXM",
        "colab_type": "code",
        "outputId": "76f2ec3d-9db4-404c-99d8-c8ecf0e59e03",
        "colab": {
          "base_uri": "https://localhost:8080/",
          "height": 35
        }
      },
      "source": [
        "#Aqui vou calcular a média\n",
        "media = pd.Series([1,5,10,30,50,30,15,40,45,60])\n",
        "x = media.mean()\n",
        "print(x)"
      ],
      "execution_count": 0,
      "outputs": [
        {
          "output_type": "stream",
          "text": [
            "28.6\n"
          ],
          "name": "stdout"
        }
      ]
    },
    {
      "cell_type": "code",
      "metadata": {
        "id": "bJ0uQj1ov0cW",
        "colab_type": "code",
        "outputId": "3507bd07-e41a-482e-efff-0fe71ca0c540",
        "colab": {
          "base_uri": "https://localhost:8080/",
          "height": 35
        }
      },
      "source": [
        "#Aqui vou calcular a mediana\n",
        "y = media.median()\n",
        "print(y)"
      ],
      "execution_count": 0,
      "outputs": [
        {
          "output_type": "stream",
          "text": [
            "30.0\n"
          ],
          "name": "stdout"
        }
      ]
    },
    {
      "cell_type": "code",
      "metadata": {
        "id": "h1t8GG2cwoqG",
        "colab_type": "code",
        "outputId": "7cd1c8b7-0a76-4674-83e7-d06661dc3155",
        "colab": {
          "base_uri": "https://localhost:8080/",
          "height": 52
        }
      },
      "source": [
        "#aqui é a moda\n",
        "z = media.mode()\n",
        "print(z)"
      ],
      "execution_count": 0,
      "outputs": [
        {
          "output_type": "stream",
          "text": [
            "0    30\n",
            "dtype: int64\n"
          ],
          "name": "stdout"
        }
      ]
    },
    {
      "cell_type": "code",
      "metadata": {
        "id": "hohQvdm3w0Md",
        "colab_type": "code",
        "outputId": "63dc8625-2cd2-4e05-ddec-77df67944903",
        "colab": {
          "base_uri": "https://localhost:8080/",
          "height": 35
        }
      },
      "source": [
        "#Amplitude\n",
        "\n",
        "print(media.max()-media.min())"
      ],
      "execution_count": 0,
      "outputs": [
        {
          "output_type": "stream",
          "text": [
            "59\n"
          ],
          "name": "stdout"
        }
      ]
    },
    {
      "cell_type": "markdown",
      "metadata": {
        "id": "lveQ5DNcxMoC",
        "colab_type": "text"
      },
      "source": [
        "A variância é uma medida que expressa quanto os dados de um conjunto estão afastados de seu valor esperado. Calculamos a variância no Pandas através da função var():"
      ]
    },
    {
      "cell_type": "code",
      "metadata": {
        "id": "TPiHBAjzxGV_",
        "colab_type": "code",
        "outputId": "b092aa0c-71af-4472-9c6b-c22970e910c7",
        "colab": {
          "base_uri": "https://localhost:8080/",
          "height": 35
        }
      },
      "source": [
        "#Variância\n",
        "print(media.var())"
      ],
      "execution_count": 0,
      "outputs": [
        {
          "output_type": "stream",
          "text": [
            "410.71111111111117\n"
          ],
          "name": "stdout"
        }
      ]
    },
    {
      "cell_type": "markdown",
      "metadata": {
        "id": "hqZGJOwMxhvn",
        "colab_type": "text"
      },
      "source": [
        "O desvio padrão também é uma medida de dispersão, que indica quanto os dados estão afastados da média. Um valor de desvio padrão alto indica que os valores estão mais espalhados, mais longe da média, e um desvio padrão baixo indica que os valores estão mais próximos da média. No Pandas fazemos o cálculo através da função std():"
      ]
    },
    {
      "cell_type": "code",
      "metadata": {
        "id": "hlpNIx-uxZOi",
        "colab_type": "code",
        "outputId": "306751f1-a6aa-4a62-996a-c93a2776562c",
        "colab": {
          "base_uri": "https://localhost:8080/",
          "height": 35
        }
      },
      "source": [
        "#desvio padrão\n",
        "\n",
        "print(media.std())"
      ],
      "execution_count": 0,
      "outputs": [
        {
          "output_type": "stream",
          "text": [
            "20.266008761251218\n"
          ],
          "name": "stdout"
        }
      ]
    }
  ]
}